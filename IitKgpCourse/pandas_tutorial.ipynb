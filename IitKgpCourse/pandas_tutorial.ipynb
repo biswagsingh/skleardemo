{
 "cells": [
  {
   "cell_type": "code",
   "execution_count": null,
   "metadata": {},
   "outputs": [],
   "source": [
    "import pandas as pd\n",
    "from IPython.display import display\n",
    "import numpy as np"
   ]
  },
  {
   "cell_type": "code",
   "execution_count": null,
   "metadata": {},
   "outputs": [],
   "source": [
    "df = pd.read_csv('/Users/ganesh.tata/Downloads/train.csv')"
   ]
  },
  {
   "cell_type": "markdown",
   "metadata": {},
   "source": [
    "## Basics\n",
    "### Shape of the dataset , where rows - Number of instances in the dataset, Columns - Number of features in the dataset"
   ]
  },
  {
   "cell_type": "code",
   "execution_count": null,
   "metadata": {},
   "outputs": [],
   "source": [
    "df.shape"
   ]
  },
  {
   "cell_type": "markdown",
   "metadata": {},
   "source": [
    "891 Rows, 12 Columns ( Features )"
   ]
  },
  {
   "cell_type": "markdown",
   "metadata": {},
   "source": [
    "### Column Names"
   ]
  },
  {
   "cell_type": "code",
   "execution_count": null,
   "metadata": {},
   "outputs": [],
   "source": [
    "df.columns"
   ]
  },
  {
   "cell_type": "markdown",
   "metadata": {},
   "source": [
    "### Data Type of each Column"
   ]
  },
  {
   "cell_type": "code",
   "execution_count": null,
   "metadata": {},
   "outputs": [],
   "source": [
    "df.dtypes"
   ]
  },
  {
   "cell_type": "markdown",
   "metadata": {},
   "source": [
    "### First Few Rows of the Dataset"
   ]
  },
  {
   "cell_type": "code",
   "execution_count": null,
   "metadata": {},
   "outputs": [],
   "source": [
    "df.head()"
   ]
  },
  {
   "cell_type": "markdown",
   "metadata": {
    "collapsed": true
   },
   "source": [
    "### Last Few Rows of the Dataset"
   ]
  },
  {
   "cell_type": "code",
   "execution_count": null,
   "metadata": {},
   "outputs": [],
   "source": [
    "df.tail()"
   ]
  },
  {
   "cell_type": "code",
   "execution_count": null,
   "metadata": {},
   "outputs": [],
   "source": [
    "df.describe()"
   ]
  },
  {
   "cell_type": "markdown",
   "metadata": {},
   "source": [
    "## Indexing\n",
    "Select Data of Particular Columns"
   ]
  },
  {
   "cell_type": "code",
   "execution_count": null,
   "metadata": {},
   "outputs": [],
   "source": [
    "# Select only \"Survived\", \"Pclass\" and \"Age\" Columns\n",
    "selected_df = df[['Survived', 'Pclass', 'Age']]\n",
    "# Get the shape of selected_df to cross-check whether the number of columns correspond to the number of features selected\n",
    "selected_df.shape"
   ]
  },
  {
   "cell_type": "code",
   "execution_count": null,
   "metadata": {},
   "outputs": [],
   "source": [
    "# Get first few rows of the new Data Frame\n",
    "selected_df.head()"
   ]
  },
  {
   "cell_type": "code",
   "execution_count": null,
   "metadata": {},
   "outputs": [],
   "source": [
    "# Selecting a particular range of rows, for a set of columns\n",
    "# Select only \"Survived\", \"Pclass\" and \"Age\" Columns for Rows 10:20\n",
    "selected_df = df.loc[10:20, ['Survived', 'Pclass', 'Age']]\n",
    "selected_df"
   ]
  },
  {
   "cell_type": "markdown",
   "metadata": {},
   "source": [
    "### Sorting DataFrame"
   ]
  },
  {
   "cell_type": "code",
   "execution_count": null,
   "metadata": {},
   "outputs": [],
   "source": [
    "# Sort the Data Frame using a particular Column. Let us sort our original DF by Fare ( Ascending )\n",
    "sorted_df = df.sort_values(by='Fare')\n",
    "# Show first few rows of the sorted Data frame\n",
    "display(sorted_df.head())\n",
    "# Show last few rows of the sorted Data frame\n",
    "display(sorted_df.tail())\n",
    "# Notice how the order of the first column has changed. The first row indicates the index of each row, and due to the sort\n",
    "# operation, the order has changed. "
   ]
  },
  {
   "cell_type": "code",
   "execution_count": null,
   "metadata": {},
   "outputs": [],
   "source": [
    "# Let us now sort our original DF by Fare ( Descending )\n",
    "sorted_df = df.sort_values(by='Fare', ascending=False)\n",
    "sorted_df.head()"
   ]
  },
  {
   "cell_type": "code",
   "execution_count": null,
   "metadata": {},
   "outputs": [],
   "source": [
    "# Sort the Data Frame using two columns - SibSp and Fare\n",
    "sorted_df = df.sort_values(by=['SibSp', 'Fare'])\n",
    "sorted_df.head()"
   ]
  },
  {
   "cell_type": "markdown",
   "metadata": {},
   "source": [
    "### Applying Functions"
   ]
  },
  {
   "cell_type": "code",
   "execution_count": null,
   "metadata": {
    "scrolled": true
   },
   "outputs": [],
   "source": [
    "# Let us say we want to get the last name of each person The names are in the format - Last_name, Title First_Name\n",
    "# To do that, we can apply a function to get the string before the comma in the name\n",
    "# For example, \"Leonard\" is the last name in \"Leonard, Mr. Lionel\"\n",
    "last_name = df['Name'].apply(lambda x: x.split(\",\")[0])\n",
    "\n",
    "# To compare the full name with the last name, we can create a new dataframe with the 'name' column from the original \n",
    "# dataframe, and the last name extracted\n",
    "new_df = pd.DataFrame({'Full name': df['Name'], 'Last Name': last_name})\n",
    "new_df.head()"
   ]
  },
  {
   "cell_type": "markdown",
   "metadata": {},
   "source": [
    "## Filter based on Boolean Condition(s)"
   ]
  },
  {
   "cell_type": "code",
   "execution_count": null,
   "metadata": {},
   "outputs": [],
   "source": [
    "# List all rows where Age > 20\n",
    "df_age_filter = (df[df['Age'] > 20])\n",
    "display(df_age_filter.head())\n",
    "\n",
    "# Number of rows having age > 20\n",
    "print(\"Number of rows having age > 20: \", df_age_filter.shape[0])"
   ]
  },
  {
   "cell_type": "code",
   "execution_count": null,
   "metadata": {},
   "outputs": [],
   "source": [
    "# Multiple Conditions\n",
    "# List all rows where Age > 20 and Age < 50\n",
    "df_filtered = (df[(df['Age'] > 20) & (df['Age'] < 50)])\n",
    "display(df_filtered.head())\n",
    "\n",
    "# Number of rows having Age > 20 and Age < 50\n",
    "print(\"Number of rows having age > 20: \", df_filtered.shape[0])"
   ]
  },
  {
   "cell_type": "code",
   "execution_count": null,
   "metadata": {},
   "outputs": [],
   "source": [
    "# List all rows where Age > 30 and Sex is male\n",
    "df_filtered = df[(df['Age'] > 30) & (df['Sex'] == 'male')]\n",
    "display(df_filtered.head())\n",
    "\n",
    "# Number of rows having Age > 30 and Sex is male\n",
    "print(\"Number of rows having age > 20: \", df_filtered.shape[0])"
   ]
  },
  {
   "cell_type": "markdown",
   "metadata": {},
   "source": [
    "## Group By\n",
    "Group by column(s)"
   ]
  },
  {
   "cell_type": "code",
   "execution_count": null,
   "metadata": {},
   "outputs": [],
   "source": [
    "# Let us say we want to group the passengers based on sex, and find the mean Age of each sex\n",
    "print(\"Mean Age Grouped by Sex\")\n",
    "display(df.groupby('Sex')['Age'].mean())\n",
    "\n",
    "# Get the number of passengers for each sex\n",
    "print(\"Number of passengers for each sex\")\n",
    "display(df.groupby('Sex')['Sex'].count())"
   ]
  },
  {
   "cell_type": "code",
   "execution_count": null,
   "metadata": {},
   "outputs": [],
   "source": [
    "# Group by Multiple Columns\n",
    "# Finding average age, grouped by sex, and survival label\n",
    "print(\"Average age, grouped by sex, and survival label\")\n",
    "display(df.groupby(['Sex', 'Survived'])['Age'].mean())\n",
    "\n",
    "#  Group by passenger Class and sex, then find the number of passengers who survived\n",
    "print(\"Group by passenger Class and sex, then find the number of passengers who survived\")\n",
    "display(df.groupby(['Pclass', 'Sex'])['Survived'].sum())\n",
    "\n",
    "\n",
    "#  Among Passengers who didn't survive, find the average age grouped by Passenger class and Sex\n",
    "print(\"Average age grouped by Passenger class and Sex for passengers who didn't survive\")\n",
    "display(df[df['Survived'] == 0].groupby(['Pclass', 'Sex'])['Age'].mean())"
   ]
  },
  {
   "cell_type": "markdown",
   "metadata": {},
   "source": [
    "## Aggregate\n",
    "Using Aggregate, we can specify Multiple Statistics to be calculated per Group"
   ]
  },
  {
   "cell_type": "code",
   "execution_count": null,
   "metadata": {},
   "outputs": [],
   "source": [
    "# Group by passenger Class and sex, then find \n",
    "# 1. The number of passengers who survived\n",
    "# 2. Average Age\n",
    "df.groupby(['Pclass', 'Sex']).agg({\n",
    "        \"Survived\": \"sum\",\n",
    "        \"Age\": \"mean\"\n",
    "    })"
   ]
  },
  {
   "cell_type": "code",
   "execution_count": null,
   "metadata": {},
   "outputs": [],
   "source": [
    "# Group by Pclass\n",
    "# Find - \n",
    "# 1. The number of passengers who survived\n",
    "# 2. Average Fare \n",
    "# 3. Number of passengers\n",
    "df.groupby(['Pclass']).agg({\n",
    "        \"Survived\": \"sum\",\n",
    "        \"Fare\": \"mean\",\n",
    "        \"Pclass\": \"count\"\n",
    "    })"
   ]
  },
  {
   "cell_type": "code",
   "execution_count": null,
   "metadata": {},
   "outputs": [],
   "source": [
    "# Group by Pclass, sex, and survived label\n",
    "# Find - \n",
    "# 1. Average Age\n",
    "# 2. Passenger Count\n",
    "df.groupby(['Pclass', 'Sex', 'Survived']).agg({\n",
    "        \"Age\": \"mean\",\n",
    "        \"Pclass\": \"count\"\n",
    "    })"
   ]
  },
  {
   "cell_type": "code",
   "execution_count": null,
   "metadata": {},
   "outputs": [],
   "source": [
    "df.head()"
   ]
  },
  {
   "cell_type": "markdown",
   "metadata": {
    "collapsed": true
   },
   "source": [
    "## Concatenation\n",
    "Concatenation of Data Frames "
   ]
  },
  {
   "cell_type": "code",
   "execution_count": null,
   "metadata": {},
   "outputs": [],
   "source": [
    "# Find all passengers who are Male and whose Age > 20 \n",
    "df1 = df[(df['Age'] < 20) & (df['Sex'] == 'male')]\n",
    "print(\"Data frame 1 Shape - \", df1.shape)\n",
    "# Find all passengers who are Female and belong to Passenger Class 3\n",
    "df2 = df[(df['Pclass'] < 3) & (df['Sex'] == 'female')]\n",
    "print(\"Data frame 2 Shape - \", df2.shape)\n",
    "\n",
    "# Now, let us join these two dataframes into a larger dataframe\n",
    "combined_df = pd.concat([df1, df2])\n",
    "print(\"Combined Data frame Shape - \", combined_df.shape)\n"
   ]
  },
  {
   "cell_type": "code",
   "execution_count": null,
   "metadata": {},
   "outputs": [],
   "source": []
  }
 ],
 "metadata": {
  "kernelspec": {
   "display_name": "Python 3",
   "language": "python",
   "name": "python3"
  },
  "language_info": {
   "codemirror_mode": {
    "name": "ipython",
    "version": 3
   },
   "file_extension": ".py",
   "mimetype": "text/x-python",
   "name": "python",
   "nbconvert_exporter": "python",
   "pygments_lexer": "ipython3",
   "version": "3.6.8"
  }
 },
 "nbformat": 4,
 "nbformat_minor": 1
}
